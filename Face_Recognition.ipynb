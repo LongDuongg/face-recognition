{
 "cells": [
  {
   "cell_type": "code",
   "execution_count": 1,
   "metadata": {},
   "outputs": [
    {
     "name": "stderr",
     "output_type": "stream",
     "text": [
      "INFO:numexpr.utils:NumExpr defaulting to 8 threads.\n"
     ]
    }
   ],
   "source": [
    "import cv2 \n",
    "import matplotlib.pyplot as plt \n",
    "import albumentations as alb\n",
    "import numpy as np \n",
    "import tensorflow as tf \n",
    "import json\n",
    "import os\n",
    "import math\n",
    "import time"
   ]
  },
  {
   "cell_type": "markdown",
   "metadata": {},
   "source": [
    "Prepare Coordinates\n"
   ]
  },
  {
   "cell_type": "code",
   "execution_count": 2,
   "metadata": {},
   "outputs": [],
   "source": [
    "def load_coordinate(label_path) :\n",
    "  with open(label_path, 'rb') as file :\n",
    "    label = json.load(file)\n",
    "    \n",
    "  return [\n",
    "    int(math.ceil(label[\"shapes\"][0]['points'][0][0])),\n",
    "    int(math.ceil(label[\"shapes\"][0]['points'][0][1])),\n",
    "    int(math.ceil(label[\"shapes\"][0]['points'][1][0])),\n",
    "    int(math.ceil(label[\"shapes\"][0]['points'][1][1])),\n",
    "  ]"
   ]
  },
  {
   "cell_type": "markdown",
   "metadata": {},
   "source": [
    "Crop face on image\n"
   ]
  },
  {
   "cell_type": "code",
   "execution_count": 3,
   "metadata": {},
   "outputs": [],
   "source": [
    "def preprocess(folder_in, folder_out, coordinates, label) :\n",
    "  curentImg = cv2.imread(folder_in)\n",
    "  curentImgRGB = cv2.cvtColor(curentImg, cv2.COLOR_BGR2RGB)    \n",
    "  \n",
    "  cv2.imwrite(\n",
    "    os.path.join('Cropped_Face_Images', folder_out, 'Quoc', label.split('.')[0] + '.jpg'), \n",
    "    cv2.resize(\n",
    "      curentImgRGB[coordinates[1] : coordinates[3], coordinates[0] : coordinates[2]],\n",
    "      (120,120)\n",
    "    )\n",
    "  )\n",
    "  \n",
    "  print(\"Processing : \", label.split('.')[0] + '.jpg')"
   ]
  },
  {
   "cell_type": "code",
   "execution_count": null,
   "metadata": {},
   "outputs": [],
   "source": [
    "for folder in ['Data_Train', 'Data_Test', 'Data_Validation'] :\n",
    "  for label_file in os.listdir(os.path.join(folder, 'Quoc_Label')) :\n",
    "    coordinates = load_coordinate(os.path.join(folder, 'Quoc_Label', label_file)) \n",
    "    folder_in = os.path.join(folder, 'Quoc', label_file.split('.')[0] + '.jpg')\n",
    "    \n",
    "    preprocess(folder_in, folder, coordinates, label_file)\n",
    "    time.sleep(2)\n",
    "print('finish process !!!!')"
   ]
  },
  {
   "cell_type": "markdown",
   "metadata": {},
   "source": [
    "Data Augmentation"
   ]
  },
  {
   "cell_type": "code",
   "execution_count": 4,
   "metadata": {},
   "outputs": [],
   "source": [
    "augmentor = alb.Compose([\n",
    "  alb.HorizontalFlip(p=0.5),\n",
    "  alb.VerticalFlip(p=0.5),\n",
    "  alb.RandomBrightnessContrast(p=0.2),\n",
    "  alb.RandomGamma(p=0.2),\n",
    "  alb.RGBShift(p=0.2),],\n",
    ")"
   ]
  },
  {
   "cell_type": "code",
   "execution_count": 5,
   "metadata": {},
   "outputs": [],
   "source": [
    "for folder in ['Data_Train', 'Data_Test', 'Data_Validation'] :\n",
    "  for sub_folder, sub_folder2 in zip(['Long', 'Phuc', 'Quoc'], ['Long_Augmented', 'Phuc_Augmented', 'Quoc_Augmented']) :\n",
    "    for image_file in os.listdir(os.path.join('Cropped_Face_Images', folder, sub_folder)) :\n",
    "      image = cv2.imread(os.path.join('Cropped_Face_Images', folder, sub_folder, image_file))\n",
    "        \n",
    "      try:\n",
    "        for x in range(10) :\n",
    "          augmented = augmentor(image=image)\n",
    "          cv2.imwrite(os.path.join('Cropped_Face_Images', folder, sub_folder2, f'{image_file.split(\".\")[0]}.{x}.jpg'), augmented['image'])\n",
    "      except Exception as e :\n",
    "        print(e)"
   ]
  },
  {
   "cell_type": "markdown",
   "metadata": {},
   "source": [
    "Prepare data set\n"
   ]
  },
  {
   "cell_type": "code",
   "execution_count": 4,
   "metadata": {},
   "outputs": [],
   "source": [
    "from tensorflow import keras\n",
    "from keras.preprocessing.image import ImageDataGenerator\n",
    "import pickle"
   ]
  },
  {
   "cell_type": "code",
   "execution_count": 5,
   "metadata": {},
   "outputs": [],
   "source": [
    "train_datagen = ImageDataGenerator(\n",
    "  rescale=1./255,\n",
    "  shear_range=0.1,\n",
    "  zoom_range=0.1,\n",
    "  horizontal_flip=True\n",
    ")"
   ]
  },
  {
   "cell_type": "code",
   "execution_count": 6,
   "metadata": {},
   "outputs": [],
   "source": [
    "test_datagen = ImageDataGenerator(\n",
    "  rescale=1./255\n",
    ")"
   ]
  },
  {
   "cell_type": "code",
   "execution_count": 7,
   "metadata": {},
   "outputs": [],
   "source": [
    "val_datagen = ImageDataGenerator(\n",
    "  rescale=1./255\n",
    ")"
   ]
  },
  {
   "cell_type": "code",
   "execution_count": 8,
   "metadata": {},
   "outputs": [
    {
     "name": "stdout",
     "output_type": "stream",
     "text": [
      "Found 6290 images belonging to 3 classes.\n"
     ]
    }
   ],
   "source": [
    "data_train = train_datagen.flow_from_directory(\n",
    "  'datasets/dataset-yolov8-cls/train',\n",
    "  target_size=(120, 120),\n",
    "  batch_size=32,\n",
    "  class_mode='categorical'\n",
    ")"
   ]
  },
  {
   "cell_type": "code",
   "execution_count": 9,
   "metadata": {},
   "outputs": [
    {
     "name": "stdout",
     "output_type": "stream",
     "text": [
      "Found 1550 images belonging to 3 classes.\n"
     ]
    }
   ],
   "source": [
    "data_test = test_datagen.flow_from_directory(\n",
    "    \"datasets/dataset-yolov8-cls/test\",\n",
    "    target_size=(120, 120),\n",
    "    batch_size=32,\n",
    "    class_mode=\"categorical\",\n",
    ")"
   ]
  },
  {
   "cell_type": "code",
   "execution_count": 10,
   "metadata": {},
   "outputs": [
    {
     "name": "stdout",
     "output_type": "stream",
     "text": [
      "Found 1540 images belonging to 3 classes.\n"
     ]
    }
   ],
   "source": [
    "data_val = val_datagen.flow_from_directory(\n",
    "    \"datasets/dataset-yolov8-cls/val\",\n",
    "    target_size=(120, 120),\n",
    "    batch_size=32,\n",
    "    class_mode=\"categorical\",\n",
    ")"
   ]
  },
  {
   "cell_type": "markdown",
   "metadata": {},
   "source": [
    "Creating a mapping for index and face names"
   ]
  },
  {
   "cell_type": "code",
   "execution_count": 11,
   "metadata": {},
   "outputs": [],
   "source": [
    "# class_indices have the numeric tag for each face\n",
    "train_classes = data_train.class_indices \n",
    "\n",
    "# Storing the face and the numeric tag for future reference\n",
    "ResultMap={}\n",
    "for faceValue,faceName in zip(train_classes.values(),train_classes.keys()):\n",
    "    ResultMap[faceValue]=faceName\n",
    "    \n",
    "# Saving the face map for future reference\n",
    "# with open(\"ResultsMap.pkl\", 'wb') as fileWriteStream:\n",
    "#     pickle.dump(ResultMap, fileWriteStream)"
   ]
  },
  {
   "cell_type": "markdown",
   "metadata": {},
   "source": [
    "Creating the CNN face recognition model\n"
   ]
  },
  {
   "cell_type": "code",
   "execution_count": 12,
   "metadata": {},
   "outputs": [],
   "source": [
    "from tensorflow import keras\n",
    "from keras.models import Sequential, load_model\n",
    "from keras.layers import Convolution2D, MaxPool2D, Flatten, Dense, BatchNormalization\n",
    "from keras.optimizers import Adam"
   ]
  },
  {
   "cell_type": "code",
   "execution_count": 13,
   "metadata": {},
   "outputs": [],
   "source": [
    "model = Sequential()"
   ]
  },
  {
   "cell_type": "code",
   "execution_count": 14,
   "metadata": {},
   "outputs": [
    {
     "name": "stderr",
     "output_type": "stream",
     "text": [
      "WARNING:absl:At this time, the v2.11+ optimizer `tf.keras.optimizers.Adam` runs slowly on M1/M2 Macs, please use the legacy Keras optimizer instead, located at `tf.keras.optimizers.legacy.Adam`.\n"
     ]
    }
   ],
   "source": [
    "model.add(Convolution2D(32, kernel_size=(3,3), strides=(1,1), input_shape=(120,120,3), activation='relu'))\n",
    "model.add(BatchNormalization())\n",
    "model.add(MaxPool2D())\n",
    " \n",
    "model.add(Convolution2D(64, kernel_size=(3,3), strides=(1,1), activation='relu'))\n",
    "model.add(BatchNormalization())\n",
    "model.add(MaxPool2D())\n",
    "\n",
    "# model.add(Convolution2D(16, kernel_size=(3,3), strides=(1,1), activation='relu'))\n",
    "# model.add(MaxPool2D())\n",
    "\n",
    "model.add(Flatten())\n",
    "\n",
    "model.add(Dense(units=64,activation=\"relu\"))\n",
    "model.add(Dense(units=3, activation=\"softmax\"))\n",
    "\n",
    "opt = Adam(learning_rate=0.001)\n",
    "model.compile(optimizer=opt, loss='categorical_crossentropy', metrics=['accuracy'])"
   ]
  },
  {
   "cell_type": "code",
   "execution_count": 15,
   "metadata": {},
   "outputs": [
    {
     "name": "stdout",
     "output_type": "stream",
     "text": [
      "Model: \"sequential\"\n",
      "_________________________________________________________________\n",
      " Layer (type)                Output Shape              Param #   \n",
      "=================================================================\n",
      " conv2d (Conv2D)             (None, 118, 118, 32)      896       \n",
      "                                                                 \n",
      " batch_normalization (Batch  (None, 118, 118, 32)      128       \n",
      " Normalization)                                                  \n",
      "                                                                 \n",
      " max_pooling2d (MaxPooling2  (None, 59, 59, 32)        0         \n",
      " D)                                                              \n",
      "                                                                 \n",
      " conv2d_1 (Conv2D)           (None, 57, 57, 64)        18496     \n",
      "                                                                 \n",
      " batch_normalization_1 (Bat  (None, 57, 57, 64)        256       \n",
      " chNormalization)                                                \n",
      "                                                                 \n",
      " max_pooling2d_1 (MaxPoolin  (None, 28, 28, 64)        0         \n",
      " g2D)                                                            \n",
      "                                                                 \n",
      " flatten (Flatten)           (None, 50176)             0         \n",
      "                                                                 \n",
      " dense (Dense)               (None, 64)                3211328   \n",
      "                                                                 \n",
      " dense_1 (Dense)             (None, 3)                 195       \n",
      "                                                                 \n",
      "=================================================================\n",
      "Total params: 3231299 (12.33 MB)\n",
      "Trainable params: 3231107 (12.33 MB)\n",
      "Non-trainable params: 192 (768.00 Byte)\n",
      "_________________________________________________________________\n"
     ]
    }
   ],
   "source": [
    "model.summary()"
   ]
  },
  {
   "cell_type": "markdown",
   "metadata": {},
   "source": [
    "Training Model\n"
   ]
  },
  {
   "cell_type": "code",
   "execution_count": 16,
   "metadata": {},
   "outputs": [],
   "source": [
    "logdir = 'recognition_logs'\n",
    "tensorboard_callback = tf.keras.callbacks.TensorBoard(log_dir=logdir)"
   ]
  },
  {
   "cell_type": "code",
   "execution_count": 17,
   "metadata": {},
   "outputs": [
    {
     "name": "stdout",
     "output_type": "stream",
     "text": [
      "Epoch 1/40\n",
      "30/30 [==============================] - 5s 133ms/step - loss: 2.7539 - accuracy: 0.6979 - val_loss: 4.6314 - val_accuracy: 0.2125\n",
      "Epoch 2/40\n",
      "30/30 [==============================] - 4s 128ms/step - loss: 0.8987 - accuracy: 0.8333 - val_loss: 18.7519 - val_accuracy: 0.2062\n",
      "Epoch 3/40\n",
      "30/30 [==============================] - 4s 130ms/step - loss: 0.4381 - accuracy: 0.8896 - val_loss: 38.8928 - val_accuracy: 0.1906\n",
      "Epoch 4/40\n",
      "30/30 [==============================] - 4s 121ms/step - loss: 0.4445 - accuracy: 0.8979 - val_loss: 48.7873 - val_accuracy: 0.2094\n",
      "Epoch 5/40\n",
      "30/30 [==============================] - 4s 127ms/step - loss: 0.3301 - accuracy: 0.9083 - val_loss: 70.7385 - val_accuracy: 0.2313\n",
      "Epoch 6/40\n",
      "30/30 [==============================] - 4s 141ms/step - loss: 0.3445 - accuracy: 0.9365 - val_loss: 51.9670 - val_accuracy: 0.2281\n",
      "Epoch 7/40\n",
      "30/30 [==============================] - 4s 129ms/step - loss: 0.1906 - accuracy: 0.9417 - val_loss: 61.9548 - val_accuracy: 0.2156\n",
      "Epoch 8/40\n",
      "30/30 [==============================] - 4s 139ms/step - loss: 0.1512 - accuracy: 0.9667 - val_loss: 63.6524 - val_accuracy: 0.2000\n",
      "Epoch 9/40\n",
      "30/30 [==============================] - 4s 128ms/step - loss: 0.1845 - accuracy: 0.9573 - val_loss: 38.8498 - val_accuracy: 0.2562\n",
      "Epoch 10/40\n",
      "30/30 [==============================] - 4s 128ms/step - loss: 0.1560 - accuracy: 0.9708 - val_loss: 75.4094 - val_accuracy: 0.2625\n",
      "Epoch 11/40\n",
      "30/30 [==============================] - 4s 136ms/step - loss: 0.2115 - accuracy: 0.9573 - val_loss: 36.8813 - val_accuracy: 0.2750\n",
      "Epoch 12/40\n",
      "30/30 [==============================] - 4s 132ms/step - loss: 0.1405 - accuracy: 0.9609 - val_loss: 16.0835 - val_accuracy: 0.4750\n",
      "Epoch 13/40\n",
      "30/30 [==============================] - 4s 140ms/step - loss: 0.2543 - accuracy: 0.9577 - val_loss: 12.8291 - val_accuracy: 0.5031\n",
      "Epoch 14/40\n",
      "30/30 [==============================] - 4s 132ms/step - loss: 0.1576 - accuracy: 0.9646 - val_loss: 6.4375 - val_accuracy: 0.5125\n",
      "Epoch 15/40\n",
      "30/30 [==============================] - 4s 135ms/step - loss: 0.1643 - accuracy: 0.9615 - val_loss: 7.7446 - val_accuracy: 0.5625\n",
      "Epoch 16/40\n",
      "30/30 [==============================] - 4s 142ms/step - loss: 0.1949 - accuracy: 0.9667 - val_loss: 1.6573 - val_accuracy: 0.8281\n",
      "Epoch 17/40\n",
      "30/30 [==============================] - 4s 128ms/step - loss: 0.0654 - accuracy: 0.9852 - val_loss: 0.8875 - val_accuracy: 0.8781\n",
      "Epoch 18/40\n",
      "30/30 [==============================] - 4s 139ms/step - loss: 0.0674 - accuracy: 0.9771 - val_loss: 2.6084 - val_accuracy: 0.8375\n",
      "Epoch 19/40\n",
      "30/30 [==============================] - 4s 127ms/step - loss: 0.1201 - accuracy: 0.9802 - val_loss: 0.5748 - val_accuracy: 0.9250\n",
      "Epoch 20/40\n",
      "30/30 [==============================] - 4s 119ms/step - loss: 0.1590 - accuracy: 0.9708 - val_loss: 0.8997 - val_accuracy: 0.8219\n",
      "Epoch 21/40\n",
      "30/30 [==============================] - 4s 130ms/step - loss: 0.0501 - accuracy: 0.9844 - val_loss: 2.6910 - val_accuracy: 0.7437\n",
      "Epoch 22/40\n",
      "30/30 [==============================] - 4s 123ms/step - loss: 0.0504 - accuracy: 0.9833 - val_loss: 0.1304 - val_accuracy: 0.9406\n",
      "Epoch 23/40\n",
      "30/30 [==============================] - 4s 129ms/step - loss: 0.0986 - accuracy: 0.9771 - val_loss: 0.5342 - val_accuracy: 0.8938\n",
      "Epoch 24/40\n",
      "30/30 [==============================] - 4s 138ms/step - loss: 0.2213 - accuracy: 0.9725 - val_loss: 0.5041 - val_accuracy: 0.9406\n",
      "Epoch 25/40\n",
      "30/30 [==============================] - 4s 128ms/step - loss: 0.1100 - accuracy: 0.9740 - val_loss: 0.5307 - val_accuracy: 0.8813\n",
      "Epoch 26/40\n",
      "30/30 [==============================] - 4s 128ms/step - loss: 0.1141 - accuracy: 0.9750 - val_loss: 0.7671 - val_accuracy: 0.9000\n",
      "Epoch 27/40\n",
      "30/30 [==============================] - 4s 131ms/step - loss: 0.0457 - accuracy: 0.9810 - val_loss: 0.1491 - val_accuracy: 0.9719\n",
      "Epoch 28/40\n",
      "30/30 [==============================] - 4s 127ms/step - loss: 0.1055 - accuracy: 0.9802 - val_loss: 0.1852 - val_accuracy: 0.9500\n",
      "Epoch 29/40\n",
      "30/30 [==============================] - 4s 122ms/step - loss: 0.0882 - accuracy: 0.9725 - val_loss: 0.1797 - val_accuracy: 0.9750\n",
      "Epoch 30/40\n",
      "30/30 [==============================] - 4s 127ms/step - loss: 0.0354 - accuracy: 0.9885 - val_loss: 0.2511 - val_accuracy: 0.9469\n",
      "Epoch 31/40\n",
      "30/30 [==============================] - 4s 126ms/step - loss: 0.0855 - accuracy: 0.9875 - val_loss: 0.2437 - val_accuracy: 0.9500\n",
      "Epoch 32/40\n",
      "30/30 [==============================] - 4s 132ms/step - loss: 0.0428 - accuracy: 0.9906 - val_loss: 0.1927 - val_accuracy: 0.9344\n",
      "Epoch 33/40\n",
      "30/30 [==============================] - 4s 127ms/step - loss: 0.1113 - accuracy: 0.9865 - val_loss: 0.7156 - val_accuracy: 0.8562\n",
      "Epoch 34/40\n",
      "30/30 [==============================] - 4s 129ms/step - loss: 0.0452 - accuracy: 0.9873 - val_loss: 0.3902 - val_accuracy: 0.8969\n",
      "Epoch 35/40\n",
      "30/30 [==============================] - 4s 132ms/step - loss: 0.0275 - accuracy: 0.9906 - val_loss: 0.0826 - val_accuracy: 0.9812\n",
      "Epoch 36/40\n",
      "30/30 [==============================] - 4s 124ms/step - loss: 0.0362 - accuracy: 0.9896 - val_loss: 0.2576 - val_accuracy: 0.9406\n",
      "Epoch 37/40\n",
      "30/30 [==============================] - 4s 120ms/step - loss: 0.0520 - accuracy: 0.9884 - val_loss: 0.1057 - val_accuracy: 0.9750\n",
      "Epoch 38/40\n",
      "30/30 [==============================] - 4s 128ms/step - loss: 0.0478 - accuracy: 0.9896 - val_loss: 0.0809 - val_accuracy: 0.9750\n",
      "Epoch 39/40\n",
      "30/30 [==============================] - 4s 121ms/step - loss: 0.0177 - accuracy: 0.9958 - val_loss: 0.0746 - val_accuracy: 0.9875\n",
      "Epoch 40/40\n",
      "30/30 [==============================] - 4s 131ms/step - loss: 0.0169 - accuracy: 0.9990 - val_loss: 0.1151 - val_accuracy: 0.9719\n"
     ]
    }
   ],
   "source": [
    "hist = model.fit(data_train, steps_per_epoch=30, epochs=40, validation_data = data_val, validation_steps=10, callbacks = [tensorboard_callback])"
   ]
  },
  {
   "cell_type": "markdown",
   "metadata": {},
   "source": [
    "Plot performance"
   ]
  },
  {
   "cell_type": "code",
   "execution_count": 18,
   "metadata": {},
   "outputs": [
    {
     "data": {
      "image/png": "[encoded data removed]",
      "text/plain": [
       "<Figure size 2000x500 with 2 Axes>"
      ]
     },
     "metadata": {},
     "output_type": "display_data"
    }
   ],
   "source": [
    "fig, ax = plt.subplots(ncols = 2, figsize = (20,5))\n",
    "\n",
    "ax[0].plot(hist.history['loss'], color = 'teal', label = 'loss')\n",
    "ax[0].plot(hist.history['val_loss'], color = 'orange', label = 'val_loss')\n",
    "ax[0].title.set_text('Loss')\n",
    "ax[0].legend()\n",
    "\n",
    "ax[1].plot(hist.history['accuracy'], color = 'teal', label = 'accuracy')\n",
    "ax[1].plot(hist.history['val_accuracy'], color = 'orange', label = 'val_accuracy')\n",
    "ax[1].title.set_text('Accuracy')\n",
    "ax[1].legend()\n",
    "\n",
    "plt.show()"
   ]
  },
  {
   "cell_type": "markdown",
   "metadata": {},
   "source": [
    "Save model"
   ]
  },
  {
   "cell_type": "code",
   "execution_count": 19,
   "metadata": {},
   "outputs": [
    {
     "name": "stderr",
     "output_type": "stream",
     "text": [
      "/opt/miniconda3/envs/face-recognition/lib/python3.11/site-packages/keras/src/engine/training.py:3103: UserWarning: You are saving your model as an HDF5 file via `model.save()`. This file format is considered legacy. We recommend using instead the native Keras format, e.g. `model.save('my_model.keras')`.\n",
      "  saving_api.save_model(\n",
      "INFO:tensorflow:Assets written to: Face_Recognition_new.tf/assets\n"
     ]
    }
   ],
   "source": [
    "model.save('Face_Recognition_new.keras')\n",
    "model.save(\"Face_Recognition_new.h5\")\n",
    "model.save(\"Face_Recognition_new.tf\")"
   ]
  },
  {
   "cell_type": "markdown",
   "metadata": {},
   "source": [
    "Make Prediction"
   ]
  },
  {
   "cell_type": "code",
   "execution_count": 20,
   "metadata": {},
   "outputs": [],
   "source": [
    "from keras.preprocessing import image"
   ]
  },
  {
   "cell_type": "code",
   "execution_count": null,
   "metadata": {},
   "outputs": [],
   "source": [
    "face_recognition = load_model('Face_Recognition_new.keras')\n",
    "\n",
    "with open(\"ResultsMap.pkl\", 'rb') as file:\n",
    "  result_map = pickle.load(file)\n",
    "\n",
    "test_image = cv2.imread('Phuc2.jpg')\n",
    "\n",
    "test_image = cv2.resize(test_image, (120,120))\n",
    " \n",
    "test_image = np.expand_dims(test_image,axis=0)\n",
    " \n",
    "result = face_recognition.predict(test_image,verbose=0) \n",
    " \n",
    "print('####'*10)\n",
    "print(result)\n",
    "print('Prediction is: ', result_map[np.argmax(result)])"
   ]
  },
  {
   "cell_type": "markdown",
   "metadata": {},
   "source": [
    "Real time prediction"
   ]
  },
  {
   "cell_type": "code",
   "execution_count": null,
   "metadata": {},
   "outputs": [],
   "source": [
    "def performFaceRecognition(vid) :\n",
    "  facetracker = load_model('Quoc.h5')\n",
    "  face_recognition = load_model('BatchNormalization.keras')\n",
    "  \n",
    "  with open(\"ResultsMap.pkl\", 'rb') as file:\n",
    "   result_map = pickle.load(file)\n",
    "  \n",
    "  \n",
    "  while True :\n",
    "    result, frame = vid.read()\n",
    "    if result is False:\n",
    "      break\n",
    "    frame = frame[50 : 500, 50 : 500,:]\n",
    "    \n",
    "    rgb = cv2.cvtColor(frame, cv2.COLOR_BGR2RGB)\n",
    "    resized = tf.image.resize(rgb, (120,120))\n",
    "    \n",
    "    yhat = facetracker.predict(np.expand_dims(resized/255, 0))\n",
    "    print(yhat)\n",
    "    sample_coords = yhat[1][0]\n",
    "  \n",
    "    if yhat[0] > 0.5 :\n",
    "      # Control the main rectangle\n",
    "      cv2.rectangle(\n",
    "        frame,\n",
    "        tuple(np.multiply(sample_coords[:2], [450,450]).astype(int)),\n",
    "        tuple(np.multiply(sample_coords[2:], [450,450]).astype(int)),\n",
    "        (255,0,0),\n",
    "        2 \n",
    "      )\n",
    "      \n",
    "      resize = cv2.resize(\n",
    "        frame[\n",
    "          np.multiply(sample_coords[1], 450).astype(int) : np.multiply(sample_coords[3], 450).astype(int),\n",
    "          np.multiply(sample_coords[0], 450).astype(int) : np.multiply(sample_coords[2], 450).astype(int)\n",
    "        ],  \n",
    "        (120,120)\n",
    "      )\n",
    "      \n",
    "      name = face_recognition.predict(np.expand_dims(resize/255, 0), verbose=0)\n",
    "\n",
    "      # Control the text rendered\n",
    "      cv2.putText(\n",
    "        frame, \n",
    "        result_map[np.argmax(name)],\n",
    "        tuple(np.add(np.multiply(sample_coords[:2], [450,450]).astype(int),[0, -5])),\n",
    "        cv2.FONT_HERSHEY_SIMPLEX,\n",
    "        1,\n",
    "        (255,255,255),\n",
    "        2,\n",
    "        cv2.LINE_AA\n",
    "      )\n",
    "      \n",
    "    cv2.imshow(\"My Face Detection Project\", frame) \n",
    "    if cv2.waitKey(1) & 0xFF == ord(\"q\"):\n",
    "      break\n",
    "    \n",
    "  vid.release()\n",
    "  cv2.destroyAllWindows()\n",
    "  \n",
    "def accessCamera(IP_Stream) :\n",
    "  return cv2.VideoCapture(IP_Stream)\n",
    "\n",
    "# url = 'http://192.168.1.105'\n",
    "video_stream = accessCamera(0)\n",
    "performFaceRecognition(video_stream)"
   ]
  }
 ],
 "metadata": {
  "kernelspec": {
   "display_name": "Python 3",
   "language": "python",
   "name": "python3"
  },
  "language_info": {
   "codemirror_mode": {
    "name": "ipython",
    "version": 3
   },
   "file_extension": ".py",
   "mimetype": "text/x-python",
   "name": "python",
   "nbconvert_exporter": "python",
   "pygments_lexer": "ipython3",
   "version": "3.11.9"
  }
 },
 "nbformat": 4,
 "nbformat_minor": 2
}
